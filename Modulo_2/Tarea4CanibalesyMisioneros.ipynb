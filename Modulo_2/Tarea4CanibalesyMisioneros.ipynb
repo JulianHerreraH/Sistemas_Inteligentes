{
 "cells": [
  {
   "cell_type": "markdown",
   "metadata": {},
   "source": [
    "---\n",
    "---\n",
    "---\n",
    "## Tarea 4 Problema de misioneros y caníbales \n",
    "\n",
    "---\n",
    "\n",
    "\n",
    "Ali Villegas\n",
    "\n",
    "Julián Herrera\n",
    "\n",
    "Alfredo Quintero"
   ]
  },
  {
   "cell_type": "code",
   "execution_count": 19,
   "metadata": {},
   "outputs": [],
   "source": [
    "class Estado:\n",
    "\n",
    "    def __init__(self,c,m,b=1):\n",
    "        self.c = c\n",
    "        self.m = m\n",
    "        self.b = b\n",
    "\n",
    "    def isValid(self):\n",
    "        return (self.c,self.m) not in [(3,1), (3,2), (2,1), (1,2), (0,1), (0,2)]\n",
    "\n",
    "    def __repr__(self):\n",
    "        return \"(missionaries: {}, cannibals:{}) b = {}\".format(self.c,self.m,self.b)\n",
    "                                                      \n",
    "    def __eq__(self, other):\n",
    "        return self.c == other.c and self.m == other.m and self.b == other.b\n",
    "    \n",
    "    def __hash__(self):\n",
    "        return hash((self.c,self.m,self.b))\n",
    "\n",
    "failState = Estado(-1,-1)"
   ]
  },
  {
   "cell_type": "code",
   "execution_count": 20,
   "metadata": {},
   "outputs": [],
   "source": [
    "def memoize(fn, slot=None, maxsize=32):\n",
    "    if slot:\n",
    "        def memoized_fn(obj, *args):\n",
    "            if hasattr(obj, slot):\n",
    "                return getattr(obj, slot)\n",
    "            else:\n",
    "                val = fn(obj, *args)\n",
    "                setattr(obj, slot, val)\n",
    "                return val\n",
    "    else:\n",
    "        @functools.lru_cache(maxsize=maxsize)\n",
    "        def memoized_fn(*args):\n",
    "            return fn(*args)\n",
    "\n",
    "    return memoized_fn\n",
    "\n",
    "class PriorityQueue:\n",
    "\n",
    "    def __init__(self, order='min', f=lambda x: x):\n",
    "        self.heap = []\n",
    "        if order == 'min':\n",
    "            self.f = f\n",
    "        elif order == 'max':  # now item with max f(x)\n",
    "            self.f = lambda x: -f(x)  # will be popped first\n",
    "        else:\n",
    "            raise ValueError(\"Order must be either 'min' or 'max'.\")\n",
    "\n",
    "    def append(self, item):\n",
    "        heapq.heappush(self.heap, (self.f(item), item))\n",
    "\n",
    "    def extend(self, items):\n",
    "        for item in items:\n",
    "            self.append(item)\n",
    "\n",
    "    def pop(self):\n",
    "        if self.heap:\n",
    "            return heapq.heappop(self.heap)[1]\n",
    "        else:\n",
    "            raise Exception('Trying to pop from empty PriorityQueue.')\n",
    "\n",
    "    def __len__(self):\n",
    "        return len(self.heap)\n",
    "\n",
    "    def __contains__(self, key):\n",
    "        return any([item == key for _, item in self.heap])\n",
    "\n",
    "    def __getitem__(self, key):\n",
    "        for value, item in self.heap:\n",
    "            if item == key:\n",
    "                return value\n",
    "        raise KeyError(str(key) + \" is not in the priority queue\")\n",
    "\n",
    "    def __delitem__(self, key):\n",
    "        try:\n",
    "            del self.heap[[item == key for _, item in self.heap].index(True)]\n",
    "        except ValueError:\n",
    "            raise KeyError(str(key) + \" is not in the priority queue\")\n",
    "        heapq.heapify(self.heap)"
   ]
  },
  {
   "cell_type": "code",
   "execution_count": 21,
   "metadata": {},
   "outputs": [],
   "source": [
    "class Problem(object):\n",
    "    def __init__(self, initial, goal=None):\n",
    "        self.initial = initial\n",
    "        self.goal = goal\n",
    "\n",
    "    def actions(self, state):\n",
    "        raise NotImplementedError\n",
    "\n",
    "    def result(self, state, action):\n",
    "        raise NotImplementedError\n",
    "\n",
    "    def goal_test(self, state):\n",
    "        if isinstance(self.goal, list):\n",
    "            return is_in(state, self.goal)\n",
    "        else:\n",
    "            return state == self.goal\n",
    "\n",
    "    def path_cost(self, c, state1, action, state2):\n",
    "        return c + 1\n",
    "\n",
    "    def value(self, state):\n",
    "        raise NotImplementedError\n",
    "    "
   ]
  },
  {
   "cell_type": "code",
   "execution_count": 22,
   "metadata": {},
   "outputs": [],
   "source": [
    "import math\n",
    "\n",
    "class Node:\n",
    "    def __init__(self, state, parent=None, action=None, path_cost=0):\n",
    "        self.state = state\n",
    "        self.parent = parent\n",
    "        self.action = action\n",
    "        self.path_cost = path_cost\n",
    "        self.depth = 0\n",
    "        if parent:\n",
    "            self.depth = parent.depth + 1\n",
    "\n",
    "    def __gr__(self, other):\n",
    "        return self.path_cost > other.path_cost\n",
    "        \n",
    "    def __lt__(self, other):\n",
    "        return self.path_cost <= other.path_cost\n",
    "\n",
    "    def __repr__(self):\n",
    "        if self.action == None:\n",
    "            sgn = ''\n",
    "        elif self.state.b:\n",
    "            sgn = '+'\n",
    "        else:\n",
    "            sgn = '-'\n",
    "        return \"<Action from Parent: {}{}, Current Step: {},  depth: {}>\".format(sgn,self.action, self.state, self.depth)\n",
    "\n",
    "    def expand(self, problem):\n",
    "        return [self.child_node(problem, action)\n",
    "                for action in problem.actions(self.state)]\n",
    "\n",
    "    def child_node(self, problem, action):\n",
    "        next_state = problem.result(self.state, action)\n",
    "        next_node = Node(next_state, self, action,\n",
    "                    problem.path_cost(self.path_cost, self.state,\n",
    "                                      action, next_state))\n",
    "        return next_node\n",
    "    \n",
    "    def solution(self):\n",
    "        return [node.action for node in self.path()[1:]]\n",
    "\n",
    "    def path(self):\n",
    "        node, path_back = self, []\n",
    "        while node:\n",
    "            path_back.append(node)\n",
    "            node = node.parent\n",
    "        return list(reversed(path_back))\n",
    "    \n",
    "    def getDepth(self):\n",
    "        return self.depth\n",
    "\n",
    "failure = Node(failState, path_cost=math.inf) # Indicates an algorithm couldn't find a solution."
   ]
  },
  {
   "cell_type": "code",
   "execution_count": 23,
   "metadata": {},
   "outputs": [],
   "source": [
    "class Cym(Problem):\n",
    "    initial = Estado(3,3,1)\n",
    "    goal = Estado(0,0,0)\n",
    "    \n",
    "    def __init__(self):\n",
    "        Problem.__init__(self,self.initial,self.goal)\n",
    "\n",
    "    def actions(self, estado):\n",
    "        actions = []\n",
    "        if estado.b == 1: # es 1, es decir, va a transportar personas del lado inicial al final\n",
    "            if estado.c >= 2:\n",
    "                actions = actions + [(1,0),(2,0)]\n",
    "                if estado.m >= 2:\n",
    "                    actions = actions + [(0,1),(0,2),(1,1)]\n",
    "                elif estado.m == 1:\n",
    "                    actions = actions + [(0,1),(1,1)]\n",
    "            elif estado.c == 1:\n",
    "                actions.append((1,0))\n",
    "                if estado.m >= 2:\n",
    "                    actions = actions + [(0,1),(0,2),(1,1)]\n",
    "                elif estado.m == 1:\n",
    "                    actions = actions + [(0,1),(1,1)]\n",
    "        else: # es 0, es decir, va a transportar personas del lado final al inicial \n",
    "            if 3-estado.c >= 2:\n",
    "                actions = actions + [(1,0),(2,0)]\n",
    "                if 3-estado.m >= 2:\n",
    "                    actions = actions + [(0,1),(0,2),(1,1)]\n",
    "                elif 3-estado.m == 1:\n",
    "                    actions = actions + [(0,1),(1,1)]\n",
    "            elif 3-estado.c == 1:\n",
    "                actions.append((1,0))\n",
    "                if 3-estado.m >= 2:\n",
    "                    actions = actions + [(0,1),(0,2),(1,1)]\n",
    "                elif 3-estado.m == 1:\n",
    "                    actions = actions + [(0,1),(1,1)]\n",
    "        return actions\n",
    "    \n",
    "    def result(self, state, action):\n",
    "        if state.b == 1: # va a restar \n",
    "            nuevo = Estado(state.c-action[0], state.m-action[1], (state.b+1)%2)\n",
    "        else: # va a sumar\n",
    "            nuevo = Estado(state.c+action[0], state.m+action[1], (state.b+1)%2)\n",
    "        if nuevo.isValid(): # checar si los canibales no sobrepasan a los misioneros\n",
    "            return nuevo\n",
    "        else:\n",
    "            return failState\n",
    "        \n",
    "    def goal_test(self, state):\n",
    "        return state == self.goal"
   ]
  },
  {
   "cell_type": "markdown",
   "metadata": {},
   "source": [
    "## best first search\n"
   ]
  },
  {
   "cell_type": "code",
   "execution_count": 24,
   "metadata": {
    "tags": []
   },
   "outputs": [],
   "source": [
    "import heapq\n",
    "\n",
    "\n",
    "def best_first_graph_search(problem, f, display=False):\n",
    "    f = memoize(f, 'f')\n",
    "    node = Node(problem.initial)\n",
    "    frontier = PriorityQueue('min', f)\n",
    "    frontier.append(node)\n",
    "    explored = set()\n",
    "    while frontier:\n",
    "        node = frontier.pop()\n",
    "        if problem.goal_test(node.state):\n",
    "            if display:\n",
    "                print(len(explored), \"paths have been expanded and\", len(frontier), \"paths remain in the frontier\")\n",
    "            return node\n",
    "        explored.add(node.state)\n",
    "        for child in node.expand(problem):\n",
    "            if child.state not in explored and child not in frontier:\n",
    "                frontier.append(child)\n",
    "            elif child in frontier:\n",
    "                if f(child) < frontier[child]:\n",
    "                    del frontier[child]\n",
    "                    frontier.append(child)\n",
    "    return None\n",
    "\n"
   ]
  },
  {
   "cell_type": "markdown",
   "metadata": {},
   "source": [
    "## astar search \n"
   ]
  },
  {
   "cell_type": "code",
   "execution_count": 25,
   "metadata": {},
   "outputs": [],
   "source": [
    "def astar_search(problem, h=None, display=False):\n",
    "    h = memoize(h or problem.h, 'h')\n",
    "    return best_first_graph_search(problem, lambda n: n.path_cost + h(n), display) "
   ]
  },
  {
   "cell_type": "code",
   "execution_count": 26,
   "metadata": {},
   "outputs": [
    {
     "name": "stdout",
     "output_type": "stream",
     "text": [
      "<Action from Parent: None, Current Step: (missionaries: 3, cannibals:3) b = 1,  depth: 0>\n",
      "<Action from Parent: -(1, 1), Current Step: (missionaries: 2, cannibals:2) b = 0,  depth: 1>\n",
      "<Action from Parent: +(0, 1), Current Step: (missionaries: 2, cannibals:3) b = 1,  depth: 2>\n",
      "<Action from Parent: -(2, 0), Current Step: (missionaries: 0, cannibals:3) b = 0,  depth: 3>\n",
      "<Action from Parent: +(1, 0), Current Step: (missionaries: 1, cannibals:3) b = 1,  depth: 4>\n",
      "<Action from Parent: -(0, 2), Current Step: (missionaries: 1, cannibals:1) b = 0,  depth: 5>\n",
      "<Action from Parent: +(1, 1), Current Step: (missionaries: 2, cannibals:2) b = 1,  depth: 6>\n",
      "<Action from Parent: -(0, 2), Current Step: (missionaries: 2, cannibals:0) b = 0,  depth: 7>\n",
      "<Action from Parent: +(1, 0), Current Step: (missionaries: 3, cannibals:0) b = 1,  depth: 8>\n",
      "<Action from Parent: -(2, 0), Current Step: (missionaries: 1, cannibals:0) b = 0,  depth: 9>\n",
      "<Action from Parent: +(0, 1), Current Step: (missionaries: 1, cannibals:1) b = 1,  depth: 10>\n",
      "<Action from Parent: -(1, 1), Current Step: (missionaries: 0, cannibals:0) b = 0,  depth: 11>\n",
      "------------------------------\n"
     ]
    }
   ],
   "source": [
    "problema = Cym()\n",
    "bfs = astar_search(problema, lambda n: n.path_cost, False)\n",
    "for node in bfs.path():\n",
    "    print(node)\n",
    "\n",
    "print('------------------------------')\n"
   ]
  },
  {
   "cell_type": "markdown",
   "metadata": {},
   "source": [
    "## Uniform cost search \n"
   ]
  },
  {
   "cell_type": "code",
   "execution_count": 27,
   "metadata": {},
   "outputs": [],
   "source": [
    "def uniform_cost_search(problem, display=False):\n",
    "    return best_first_graph_search(problem, lambda node: node.path_cost, display)\n"
   ]
  },
  {
   "cell_type": "code",
   "execution_count": 28,
   "metadata": {},
   "outputs": [
    {
     "name": "stdout",
     "output_type": "stream",
     "text": [
      "<Action from Parent: None, Current Step: (missionaries: 3, cannibals:3) b = 1,  depth: 0>\n",
      "<Action from Parent: -(1, 1), Current Step: (missionaries: 2, cannibals:2) b = 0,  depth: 1>\n",
      "<Action from Parent: +(0, 1), Current Step: (missionaries: 2, cannibals:3) b = 1,  depth: 2>\n",
      "<Action from Parent: -(2, 0), Current Step: (missionaries: 0, cannibals:3) b = 0,  depth: 3>\n",
      "<Action from Parent: +(1, 0), Current Step: (missionaries: 1, cannibals:3) b = 1,  depth: 4>\n",
      "<Action from Parent: -(0, 2), Current Step: (missionaries: 1, cannibals:1) b = 0,  depth: 5>\n",
      "<Action from Parent: +(1, 1), Current Step: (missionaries: 2, cannibals:2) b = 1,  depth: 6>\n",
      "<Action from Parent: -(0, 2), Current Step: (missionaries: 2, cannibals:0) b = 0,  depth: 7>\n",
      "<Action from Parent: +(1, 0), Current Step: (missionaries: 3, cannibals:0) b = 1,  depth: 8>\n",
      "<Action from Parent: -(2, 0), Current Step: (missionaries: 1, cannibals:0) b = 0,  depth: 9>\n",
      "<Action from Parent: +(0, 1), Current Step: (missionaries: 1, cannibals:1) b = 1,  depth: 10>\n",
      "<Action from Parent: -(1, 1), Current Step: (missionaries: 0, cannibals:0) b = 0,  depth: 11>\n",
      "------------------------------\n"
     ]
    }
   ],
   "source": [
    "\n",
    "problema = Cym()\n",
    "graph = uniform_cost_search(problema, False)\n",
    "for node in graph.path():\n",
    "    print(node)\n",
    "\n",
    "print('------------------------------')\n"
   ]
  },
  {
   "cell_type": "markdown",
   "metadata": {},
   "source": [
    "## Breadth_first_search"
   ]
  },
  {
   "cell_type": "code",
   "execution_count": 29,
   "metadata": {},
   "outputs": [],
   "source": [
    "from collections import deque\n",
    "\n",
    "FIFOQueue = deque\n",
    "\n",
    "def breadth_first_search(problem):\n",
    "    \"Search shallowest nodes in the search tree first.\"\n",
    "    node = Node(problem.initial)\n",
    "    if problem.goal_test(problem.initial):\n",
    "        return node\n",
    "    frontier = FIFOQueue([node])\n",
    "    reached = {problem.initial}\n",
    "    while frontier:\n",
    "        node = frontier.pop()\n",
    "        for child in node.expand(problem):\n",
    "            s = child.state\n",
    "            if problem.goal_test(s):\n",
    "                return child\n",
    "            if s not in reached:\n",
    "                reached.add(s)\n",
    "                frontier.appendleft(child)\n",
    "    return failure"
   ]
  },
  {
   "cell_type": "code",
   "execution_count": 30,
   "metadata": {
    "tags": []
   },
   "outputs": [
    {
     "name": "stdout",
     "output_type": "stream",
     "text": [
      "<Action from Parent: None, Current Step: (missionaries: 3, cannibals:3) b = 1,  depth: 0>\n",
      "<Action from Parent: -(2, 0), Current Step: (missionaries: 1, cannibals:3) b = 0,  depth: 1>\n",
      "<Action from Parent: +(1, 0), Current Step: (missionaries: 2, cannibals:3) b = 1,  depth: 2>\n",
      "<Action from Parent: -(2, 0), Current Step: (missionaries: 0, cannibals:3) b = 0,  depth: 3>\n",
      "<Action from Parent: +(1, 0), Current Step: (missionaries: 1, cannibals:3) b = 1,  depth: 4>\n",
      "<Action from Parent: -(0, 2), Current Step: (missionaries: 1, cannibals:1) b = 0,  depth: 5>\n",
      "<Action from Parent: +(1, 1), Current Step: (missionaries: 2, cannibals:2) b = 1,  depth: 6>\n",
      "<Action from Parent: -(0, 2), Current Step: (missionaries: 2, cannibals:0) b = 0,  depth: 7>\n",
      "<Action from Parent: +(1, 0), Current Step: (missionaries: 3, cannibals:0) b = 1,  depth: 8>\n",
      "<Action from Parent: -(2, 0), Current Step: (missionaries: 1, cannibals:0) b = 0,  depth: 9>\n",
      "<Action from Parent: +(1, 0), Current Step: (missionaries: 2, cannibals:0) b = 1,  depth: 10>\n",
      "<Action from Parent: -(2, 0), Current Step: (missionaries: 0, cannibals:0) b = 0,  depth: 11>\n"
     ]
    }
   ],
   "source": [
    "problema = Cym()\n",
    "bfs = breadth_first_search(problema)\n",
    "for node in bfs.path():\n",
    "    print(node)"
   ]
  },
  {
   "cell_type": "markdown",
   "metadata": {},
   "source": [
    "## Depth first tree search\n"
   ]
  },
  {
   "cell_type": "code",
   "execution_count": 31,
   "metadata": {},
   "outputs": [],
   "source": [
    "def depth_first_tree_search(problem):\n",
    "    node = Node(problem.initial)\n",
    "    if problem.goal_test(problem.initial):\n",
    "        return node\n",
    "    frontier = FIFOQueue([node])\n",
    "    reached = {problem.initial}\n",
    "    while frontier:\n",
    "        node = frontier.pop()\n",
    "        for child in node.expand(problem):\n",
    "            s = child.state\n",
    "            if problem.goal_test(s):\n",
    "                return child\n",
    "            if s not in reached:\n",
    "                reached.add(s)\n",
    "                frontier.append(child)\n",
    "    return failure"
   ]
  },
  {
   "cell_type": "code",
   "execution_count": 32,
   "metadata": {},
   "outputs": [
    {
     "name": "stdout",
     "output_type": "stream",
     "text": [
      "<Action from Parent: None, Current Step: (missionaries: 3, cannibals:3) b = 1,  depth: 0>\n",
      "<Action from Parent: -(1, 1), Current Step: (missionaries: 2, cannibals:2) b = 0,  depth: 1>\n",
      "<Action from Parent: +(0, 1), Current Step: (missionaries: 2, cannibals:3) b = 1,  depth: 2>\n",
      "<Action from Parent: -(2, 0), Current Step: (missionaries: 0, cannibals:3) b = 0,  depth: 3>\n",
      "<Action from Parent: +(1, 0), Current Step: (missionaries: 1, cannibals:3) b = 1,  depth: 4>\n",
      "<Action from Parent: -(0, 2), Current Step: (missionaries: 1, cannibals:1) b = 0,  depth: 5>\n",
      "<Action from Parent: +(1, 1), Current Step: (missionaries: 2, cannibals:2) b = 1,  depth: 6>\n",
      "<Action from Parent: -(0, 2), Current Step: (missionaries: 2, cannibals:0) b = 0,  depth: 7>\n",
      "<Action from Parent: +(1, 0), Current Step: (missionaries: 3, cannibals:0) b = 1,  depth: 8>\n",
      "<Action from Parent: -(2, 0), Current Step: (missionaries: 1, cannibals:0) b = 0,  depth: 9>\n",
      "<Action from Parent: +(0, 1), Current Step: (missionaries: 1, cannibals:1) b = 1,  depth: 10>\n",
      "<Action from Parent: -(1, 1), Current Step: (missionaries: 0, cannibals:0) b = 0,  depth: 11>\n"
     ]
    }
   ],
   "source": [
    "problema = Cym()\n",
    "bfs = depth_first_tree_search(problema)\n",
    "for node in bfs.path():\n",
    "    print(node)"
   ]
  },
  {
   "cell_type": "markdown",
   "metadata": {},
   "source": [
    "## Depth first graph search\n",
    "\n",
    "Es la misma implementación que depth tree, pero sí checa cuando dos paths llegan al estado y elige el primero que encuentra"
   ]
  },
  {
   "cell_type": "code",
   "execution_count": 33,
   "metadata": {},
   "outputs": [],
   "source": [
    "def depth_first_graph_search(problem):\n",
    "    frontier = [(Node(problem.initial))]\n",
    "    explored = set()\n",
    "    while frontier:\n",
    "        node = frontier.pop()\n",
    "        if problem.goal_test(node.state):\n",
    "            return node\n",
    "        explored.add(node.state)\n",
    "        frontier.extend(child for child in node.expand(problem)\n",
    "                        if child.state not in explored and child not in frontier)\n",
    "    return None\n"
   ]
  },
  {
   "cell_type": "code",
   "execution_count": 34,
   "metadata": {},
   "outputs": [
    {
     "name": "stdout",
     "output_type": "stream",
     "text": [
      "<Action from Parent: None, Current Step: (missionaries: 3, cannibals:3) b = 1,  depth: 0>\n",
      "<Action from Parent: -(1, 1), Current Step: (missionaries: 2, cannibals:2) b = 0,  depth: 1>\n",
      "<Action from Parent: +(0, 1), Current Step: (missionaries: 2, cannibals:3) b = 1,  depth: 2>\n",
      "<Action from Parent: -(2, 0), Current Step: (missionaries: 0, cannibals:3) b = 0,  depth: 3>\n",
      "<Action from Parent: +(1, 0), Current Step: (missionaries: 1, cannibals:3) b = 1,  depth: 4>\n",
      "<Action from Parent: -(0, 2), Current Step: (missionaries: 1, cannibals:1) b = 0,  depth: 5>\n",
      "<Action from Parent: +(1, 1), Current Step: (missionaries: 2, cannibals:2) b = 1,  depth: 6>\n",
      "<Action from Parent: -(0, 2), Current Step: (missionaries: 2, cannibals:0) b = 0,  depth: 7>\n",
      "<Action from Parent: +(1, 0), Current Step: (missionaries: 3, cannibals:0) b = 1,  depth: 8>\n",
      "<Action from Parent: -(2, 0), Current Step: (missionaries: 1, cannibals:0) b = 0,  depth: 9>\n",
      "<Action from Parent: +(0, 1), Current Step: (missionaries: 1, cannibals:1) b = 1,  depth: 10>\n",
      "<Action from Parent: -(1, 1), Current Step: (missionaries: 0, cannibals:0) b = 0,  depth: 11>\n"
     ]
    }
   ],
   "source": [
    "problema = Cym()\n",
    "bfs = depth_first_graph_search(problema)\n",
    "for node in bfs.path():\n",
    "    print(node)"
   ]
  },
  {
   "cell_type": "markdown",
   "metadata": {},
   "source": [
    "## Iterative deepening search\n"
   ]
  },
  {
   "cell_type": "code",
   "execution_count": 35,
   "metadata": {},
   "outputs": [],
   "source": [
    "def iterative_deepening_search(problem):\n",
    "    for depth in range(20):\n",
    "        result = depth_limited_search(problem, depth)\n",
    "        if result != 'cutoff':\n",
    "            return depth_limited_search(problem, depth)\n",
    "        \n",
    "def depth_limited_search(problem, limit=10):\n",
    "    return recursive_dls(Node(problem.initial), problem, limit)\n",
    "\n",
    "def recursive_dls(node, problem, limit):\n",
    "    if problem.goal_test(node.state):\n",
    "        return node\n",
    "    elif limit == 0:\n",
    "        return 'cutoff'\n",
    "    else:\n",
    "        cutoff_occurred = False\n",
    "        for child in node.expand(problem):\n",
    "            result = recursive_dls(child, problem, limit - 1)\n",
    "            if result == 'cutoff':\n",
    "                cutoff_occurred = True\n",
    "            elif result is not None:\n",
    "                return result\n",
    "        return 'cutoff' if cutoff_occurred else None"
   ]
  },
  {
   "cell_type": "code",
   "execution_count": 36,
   "metadata": {},
   "outputs": [
    {
     "name": "stdout",
     "output_type": "stream",
     "text": [
      "<Action from Parent: None, Current Step: (missionaries: 3, cannibals:3) b = 1,  depth: 0>\n",
      "<Action from Parent: -(2, 0), Current Step: (missionaries: 1, cannibals:3) b = 0,  depth: 1>\n",
      "<Action from Parent: +(1, 0), Current Step: (missionaries: 2, cannibals:3) b = 1,  depth: 2>\n",
      "<Action from Parent: -(2, 0), Current Step: (missionaries: 0, cannibals:3) b = 0,  depth: 3>\n",
      "<Action from Parent: +(1, 0), Current Step: (missionaries: 1, cannibals:3) b = 1,  depth: 4>\n",
      "<Action from Parent: -(0, 2), Current Step: (missionaries: 1, cannibals:1) b = 0,  depth: 5>\n",
      "<Action from Parent: +(1, 1), Current Step: (missionaries: 2, cannibals:2) b = 1,  depth: 6>\n",
      "<Action from Parent: -(0, 2), Current Step: (missionaries: 2, cannibals:0) b = 0,  depth: 7>\n",
      "<Action from Parent: +(1, 0), Current Step: (missionaries: 3, cannibals:0) b = 1,  depth: 8>\n",
      "<Action from Parent: -(2, 0), Current Step: (missionaries: 1, cannibals:0) b = 0,  depth: 9>\n",
      "<Action from Parent: +(1, 0), Current Step: (missionaries: 2, cannibals:0) b = 1,  depth: 10>\n",
      "<Action from Parent: -(2, 0), Current Step: (missionaries: 0, cannibals:0) b = 0,  depth: 11>\n"
     ]
    }
   ],
   "source": [
    "problema = Cym()\n",
    "bfs = iterative_deepening_search(problema)\n",
    "for node in bfs.path():\n",
    "    print(node)"
   ]
  },
  {
   "cell_type": "markdown",
   "metadata": {},
   "source": [
    "Vemos que depende mucho del algoritmo usado, pero todos tienen una profundidad de 11, es decir, que toman 11 pasos diferentes para cruzar a todos "
   ]
  },
  {
   "cell_type": "code",
   "execution_count": null,
   "metadata": {},
   "outputs": [],
   "source": []
  }
 ],
 "metadata": {
  "kernelspec": {
   "display_name": "Python 3",
   "language": "python",
   "name": "python3"
  },
  "language_info": {
   "codemirror_mode": {
    "name": "ipython",
    "version": 3
   },
   "file_extension": ".py",
   "mimetype": "text/x-python",
   "name": "python",
   "nbconvert_exporter": "python",
   "pygments_lexer": "ipython3",
   "version": "3.8.3"
  }
 },
 "nbformat": 4,
 "nbformat_minor": 4
}
